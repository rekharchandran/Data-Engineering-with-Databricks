{
 "cells": [
  {
   "cell_type": "markdown",
   "metadata": {
    "application/vnd.databricks.v1+cell": {
     "cellMetadata": {},
     "inputWidgets": {},
     "nuid": "7046b852-961b-496a-ab1b-e8a7e08b5158",
     "showTitle": false,
     "title": ""
    }
   },
   "source": [
    "\n",
    "<div style=\"text-align: center; line-height: 0; padding-top: 9px;\">\n",
    "  <img src=\"https://databricks.com/wp-content/uploads/2018/03/db-academy-rgb-1200px.png\" alt=\"Databricks Learning\" style=\"width: 600px\">\n",
    "</div>"
   ]
  },
  {
   "cell_type": "markdown",
   "metadata": {
    "application/vnd.databricks.v1+cell": {
     "cellMetadata": {},
     "inputWidgets": {},
     "nuid": "f751d128-081e-48e8-8c20-1a6320189c54",
     "showTitle": false,
     "title": "--i18n-2d4e57a0-a2d5-4fad-80eb-98ff30d09a37"
    }
   },
   "source": [
    "\n",
    "# Notebook Basics\n",
    "\n",
    "Notebooks are the primary means of developing and executing code interactively on Databricks. This lesson provides a basic introduction to working with Databricks notebooks.\n",
    "\n",
    "If you've previously used Databricks notebooks but this is your first time executing a notebook in Databricks Repos, you'll notice that basic functionality is the same. In the next lesson, we'll review some of the functionality that Databricks Repos adds to notebooks.\n",
    "\n",
    "## Learning Objectives\n",
    "By the end of this lesson, you should be able to:\n",
    "* Attach a notebook to a cluster\n",
    "* Execute a cell in a notebook\n",
    "* Set the language for a notebook\n",
    "* Describe and use magic commands\n",
    "* Create and run a SQL cell\n",
    "* Create and run a Python cell\n",
    "* Create a markdown cell\n",
    "* Export a Databricks notebook\n",
    "* Export a collection of Databricks notebooks"
   ]
  },
  {
   "cell_type": "markdown",
   "metadata": {
    "application/vnd.databricks.v1+cell": {
     "cellMetadata": {},
     "inputWidgets": {},
     "nuid": "57d8f2c7-9415-4e09-89ac-94a6af2151ee",
     "showTitle": false,
     "title": "--i18n-e7c4cc85-5ab7-46c1-9da3-f9181d77d118"
    }
   },
   "source": [
    "\n",
    "## Attach to a Cluster\n",
    "\n",
    "In the previous lesson, you should have either deployed a cluster or identified a cluster that an admin has configured for you to use.\n",
    "\n",
    "At the top right corner of your screen, click the cluster selector (\"Connect\" button) and choose a cluster from the dropdown menu. When the notebook is connected to a cluster, this button shows the name of the cluster.\n",
    "\n",
    "**NOTE**: Deploying a cluster can take several minutes. A solid green circle will appear to the left of the cluster name once resources have been deployed. If your cluster has an empty gray circle to the left, you will need to follow instructions to <a href=\"https://docs.databricks.com/clusters/clusters-manage.html#start-a-cluster\" target=\"_blank\">start a cluster</a>."
   ]
  },
  {
   "cell_type": "markdown",
   "metadata": {
    "application/vnd.databricks.v1+cell": {
     "cellMetadata": {},
     "inputWidgets": {},
     "nuid": "eb4f782e-323b-4af6-ae58-ee10ac22a27b",
     "showTitle": false,
     "title": "--i18n-23aed87f-d375-4b81-8c3c-d4375cda0384"
    }
   },
   "source": [
    "\n",
    "## Notebooks Basics\n",
    "\n",
    "Notebooks provide cell-by-cell execution of code. Multiple languages can be mixed in a notebook. Users can add plots, images, and markdown text to enhance their code.\n",
    "\n",
    "Throughout this course, our notebooks are designed as learning instruments. Notebooks can be easily deployed as production code with Databricks, as well as providing a robust toolset for data exploration, reporting, and dashboarding.\n",
    "\n",
    "### Running a Cell\n",
    "* Run the cell below using one of the following options:\n",
    "  * **CTRL+ENTER** or **CTRL+RETURN**\n",
    "  * **SHIFT+ENTER** or **SHIFT+RETURN** to run the cell and move to the next one\n",
    "  * Using **Run Cell**, **Run All Above** or **Run All Below** as seen here<br/><img style=\"box-shadow: 5px 5px 5px 0px rgba(0,0,0,0.25); border: 1px solid rgba(0,0,0,0.25);\" src=\"https://files.training.databricks.com/images/notebook-cell-run-cmd.png\"/>"
   ]
  },
  {
   "cell_type": "code",
   "execution_count": 0,
   "metadata": {
    "application/vnd.databricks.v1+cell": {
     "cellMetadata": {},
     "inputWidgets": {},
     "nuid": "ec4a2ca5-f964-4f92-b656-723cc8b5458a",
     "showTitle": false,
     "title": ""
    }
   },
   "outputs": [],
   "source": [
    "print(\"I'm running Python!\")"
   ]
  },
  {
   "cell_type": "markdown",
   "metadata": {
    "application/vnd.databricks.v1+cell": {
     "cellMetadata": {},
     "inputWidgets": {},
     "nuid": "99a50e9c-7799-4ef6-baa0-20e16b177690",
     "showTitle": false,
     "title": "--i18n-5b14b4c2-c009-4786-8058-a3ddb61fa41d"
    }
   },
   "source": [
    "\n",
    "**NOTE**: Cell-by-cell code execution means that cells can be executed multiple times or out of order. Unless explicitly instructed, you should always assume that the notebooks in this course are intended to be run one cell at a time from top to bottom. If you encounter an error, make sure you read the text before and after a cell to ensure that the error wasn't an intentional learning moment before you try to troubleshoot. Most errors can be resolved by either running earlier cells in a notebook that were missed or re-executing the entire notebook from the top."
   ]
  },
  {
   "cell_type": "markdown",
   "metadata": {
    "application/vnd.databricks.v1+cell": {
     "cellMetadata": {},
     "inputWidgets": {},
     "nuid": "8b365c89-a390-4307-9663-254cd84b108f",
     "showTitle": false,
     "title": "--i18n-9be4ac54-8411-45a0-ad77-7173ec7402f8"
    }
   },
   "source": [
    "\n",
    "### Setting the Default Notebook Language\n",
    "\n",
    "The cell above executes a Python command, because our current default language for the notebook is set to Python.\n",
    "\n",
    "Databricks notebooks support Python, SQL, Scala, and R. A language can be selected when a notebook is created, but this can be changed at any time.\n",
    "\n",
    "The default language appears to the right of the notebook title at the top of the page. Throughout this course, we'll use a blend of SQL and Python notebooks.\n",
    "\n",
    "We'll change the default language for this notebook to SQL.\n",
    "\n",
    "Steps:\n",
    "* Click on the **Python** next to the notebook title at the top of the screen\n",
    "* In the UI that pops up, select **SQL** from the drop down list \n",
    "\n",
    "**NOTE**: In the cell just before this one, you should see a new line appear with <strong><code>&#37;python</code></strong>. We'll discuss this in a moment."
   ]
  },
  {
   "cell_type": "markdown",
   "metadata": {
    "application/vnd.databricks.v1+cell": {
     "cellMetadata": {},
     "inputWidgets": {},
     "nuid": "82e9cf8e-e2e9-4cf0-9e68-ac97ab26bf58",
     "showTitle": false,
     "title": "--i18n-3185e9b5-fcba-40aa-916b-5f3daa555cf5"
    }
   },
   "source": [
    "\n",
    "### Create and Run a SQL Cell\n",
    "\n",
    "* Highlight this cell and press the **B** button on the keyboard to create a new cell below\n",
    "* Copy the following code into the cell below and then run the cell\n",
    "\n",
    "**`%sql`**<br/>\n",
    "**`SELECT \"I'm running SQL!\"`**\n",
    "\n",
    "**NOTE**: There are a number of different methods for adding, moving, and deleting cells including GUI options and keyboard shortcuts. Refer to the <a href=\"https://docs.databricks.com/notebooks/notebooks-use.html#develop-notebooks\" target=\"_blank\">docs</a> for details."
   ]
  },
  {
   "cell_type": "markdown",
   "metadata": {
    "application/vnd.databricks.v1+cell": {
     "cellMetadata": {},
     "inputWidgets": {},
     "nuid": "9896684a-78e7-452a-a4fa-ec79f3e9359f",
     "showTitle": false,
     "title": "--i18n-5046f81c-cdbf-42c3-9b39-3be0721d837e"
    }
   },
   "source": [
    "\n",
    "## Magic Commands\n",
    "* Magic commands are specific to the Databricks notebooks\n",
    "* They are very similar to magic commands found in comparable notebook products\n",
    "* These are built-in commands that provide the same outcome regardless of the notebook's language\n",
    "* A single percent (%) symbol at the start of a cell identifies a magic command\n",
    "  * You can only have one magic command per cell\n",
    "  * A magic command must be the first thing in a cell"
   ]
  },
  {
   "cell_type": "markdown",
   "metadata": {
    "application/vnd.databricks.v1+cell": {
     "cellMetadata": {},
     "inputWidgets": {},
     "nuid": "edbf6596-fc27-4750-96b3-1b508fe6c7de",
     "showTitle": false,
     "title": "--i18n-39d2c50e-4b92-46ef-968c-f358114685be"
    }
   },
   "source": [
    "\n",
    "### Language Magics\n",
    "Language magic commands allow for the execution of code in languages other than the notebook's default. In this course, we'll see the following language magics:\n",
    "* <strong><code>&#37;python</code></strong>\n",
    "* <strong><code>&#37;sql</code></strong>\n",
    "\n",
    "Adding the language magic for the currently set notebook type is not necessary.\n",
    "\n",
    "When we changed the notebook language from Python to SQL above, existing cells written in Python had the <strong><code>&#37;python</code></strong> command added.\n",
    "\n",
    "**NOTE**: Rather than changing the default language of a notebook constantly, you should stick with a primary language as the default and only use language magics as necessary to execute code in another language."
   ]
  },
  {
   "cell_type": "code",
   "execution_count": 0,
   "metadata": {
    "application/vnd.databricks.v1+cell": {
     "cellMetadata": {},
     "inputWidgets": {},
     "nuid": "feb7fa19-a486-4697-9b2b-d95b4925d8d5",
     "showTitle": false,
     "title": ""
    }
   },
   "outputs": [],
   "source": [
    "print(\"Hello Python!\")"
   ]
  },
  {
   "cell_type": "code",
   "execution_count": 0,
   "metadata": {
    "application/vnd.databricks.v1+cell": {
     "cellMetadata": {},
     "inputWidgets": {},
     "nuid": "06a6fd93-aee9-404e-bce0-a4703ccf0bb0",
     "showTitle": false,
     "title": ""
    }
   },
   "outputs": [],
   "source": [
    "%sql\n",
    "select \"Hello SQL!\""
   ]
  },
  {
   "cell_type": "markdown",
   "metadata": {
    "application/vnd.databricks.v1+cell": {
     "cellMetadata": {},
     "inputWidgets": {},
     "nuid": "69cd1a85-8afc-4924-bbbc-92f6f5599a6f",
     "showTitle": false,
     "title": "--i18n-94da1696-d0cf-418f-ba5a-d105a5ecdaac"
    }
   },
   "source": [
    "\n",
    "### Markdown\n",
    "\n",
    "The magic command **&percnt;md** allows us to render Markdown in a cell:\n",
    "* Double click this cell to begin editing it\n",
    "* Then hit **`Esc`** to stop editing\n",
    "\n",
    "# Title One\n",
    "## Title Two\n",
    "### Title Three\n",
    "\n",
    "This is a test of the emergency broadcast system. This is only a test.\n",
    "\n",
    "This is text with a **bold** word in it.\n",
    "\n",
    "This is text with an *italicized* word in it.\n",
    "\n",
    "This is an ordered list\n",
    "1. one\n",
    "1. two\n",
    "1. three\n",
    "\n",
    "This is an unordered list\n",
    "* apples\n",
    "* peaches\n",
    "* bananas\n",
    "\n",
    "Links/Embedded HTML: <a href=\"https://en.wikipedia.org/wiki/Markdown\" target=\"_blank\">Markdown - Wikipedia</a>\n",
    "\n",
    "Images:\n",
    "![Spark Engines](https://files.training.databricks.com/images/Apache-Spark-Logo_TM_200px.png)\n",
    "\n",
    "And of course, tables:\n",
    "\n",
    "| name   | value |\n",
    "|--------|-------|\n",
    "| Yi     | 1     |\n",
    "| Ali    | 2     |\n",
    "| Selina | 3     |"
   ]
  },
  {
   "cell_type": "markdown",
   "metadata": {
    "application/vnd.databricks.v1+cell": {
     "cellMetadata": {},
     "inputWidgets": {},
     "nuid": "04d15986-2bf0-4c13-b795-2cdac04a915a",
     "showTitle": false,
     "title": "--i18n-537e86bc-782f-4167-9899-edb3bd2b9e38"
    }
   },
   "source": [
    "\n",
    "### %run\n",
    "* You can run a notebook from another notebook by using the magic command **%run**\n",
    "* Notebooks to be run are specified with relative paths\n",
    "* The referenced notebook executes as if it were part of the current notebook, so temporary views and other local declarations will be available from the calling notebook"
   ]
  },
  {
   "cell_type": "markdown",
   "metadata": {
    "application/vnd.databricks.v1+cell": {
     "cellMetadata": {},
     "inputWidgets": {},
     "nuid": "849a2b72-9de1-400f-a30a-0424b9619710",
     "showTitle": false,
     "title": "--i18n-d5c27671-b3c8-4b8c-a559-40cf7988f92f"
    }
   },
   "source": [
    "\n",
    "Uncommenting and executing the following cell will generate the following error:<br/>\n",
    "**`Error in SQL statement: AnalysisException: Table or view not found: demo_tmp_vw`**"
   ]
  },
  {
   "cell_type": "code",
   "execution_count": 0,
   "metadata": {
    "application/vnd.databricks.v1+cell": {
     "cellMetadata": {},
     "inputWidgets": {},
     "nuid": "9f3bb7bb-20fd-4e45-a519-9e68216ae957",
     "showTitle": false,
     "title": ""
    }
   },
   "outputs": [],
   "source": [
    "%sql\n",
    "-- SELECT * FROM demo_tmp_vw"
   ]
  },
  {
   "cell_type": "markdown",
   "metadata": {
    "application/vnd.databricks.v1+cell": {
     "cellMetadata": {},
     "inputWidgets": {},
     "nuid": "3082ffad-d45b-49f7-bfde-e31cc29c585d",
     "showTitle": false,
     "title": "--i18n-d0df4a17-abb4-42d3-ba37-c9a78f4fc9c0"
    }
   },
   "source": [
    "\n",
    "\n",
    "But we can declare it and a handful of other variables and functions by running this cell:"
   ]
  },
  {
   "cell_type": "code",
   "execution_count": 0,
   "metadata": {
    "application/vnd.databricks.v1+cell": {
     "cellMetadata": {},
     "inputWidgets": {},
     "nuid": "4bd5ed98-4079-48d3-baec-d7278937ab2c",
     "showTitle": false,
     "title": ""
    }
   },
   "outputs": [],
   "source": [
    "%run ./Includes/Classroom-Setup-01.2"
   ]
  },
  {
   "cell_type": "markdown",
   "metadata": {
    "application/vnd.databricks.v1+cell": {
     "cellMetadata": {},
     "inputWidgets": {},
     "nuid": "452dc1ea-c85d-4242-8fe7-fd29331fc9c1",
     "showTitle": false,
     "title": "--i18n-6a001755-5259-4fef-a5d3-2661d5301237"
    }
   },
   "source": [
    "\n",
    "\n",
    "The **`../Includes/Classroom-Setup-01.2`** notebook we referenced includes logic to create and **`USE`** a schema, as well as creating the temp view **`demo_temp_vw`**.\n",
    "\n",
    "We can see this temp view is now available in our current notebook session with the following query."
   ]
  },
  {
   "cell_type": "code",
   "execution_count": 0,
   "metadata": {
    "application/vnd.databricks.v1+cell": {
     "cellMetadata": {},
     "inputWidgets": {},
     "nuid": "3565bd25-7520-48f6-a910-e465843335be",
     "showTitle": false,
     "title": ""
    }
   },
   "outputs": [],
   "source": [
    "%sql \n",
    "SELECT * FROM demo_tmp_vw"
   ]
  },
  {
   "cell_type": "markdown",
   "metadata": {
    "application/vnd.databricks.v1+cell": {
     "cellMetadata": {},
     "inputWidgets": {},
     "nuid": "5ed051f5-e56c-4c71-8a28-033cd410d77a",
     "showTitle": false,
     "title": "--i18n-c28ecc03-8919-488f-bce7-e2fc0a451870"
    }
   },
   "source": [
    "\n",
    "We'll use this pattern of \"setup\" notebooks throughout the course to help configure the environment for lessons and labs.\n",
    "\n",
    "These \"provided\" variables, functions and other objects should be easily identifiable in that they are part of the **`DA`** object, which is an instance of **`DBAcademyHelper`**.\n",
    "\n",
    "With that in mind, most lessons will use variables derived from your username to organize files and schemas. \n",
    "\n",
    "This pattern allows us to avoid collisions with other users in a shared workspace.\n",
    "\n",
    "The cell below uses Python to print some of those variables previously defined in this notebook's setup script:"
   ]
  },
  {
   "cell_type": "code",
   "execution_count": 0,
   "metadata": {
    "application/vnd.databricks.v1+cell": {
     "cellMetadata": {},
     "inputWidgets": {},
     "nuid": "8215e69e-1e70-4090-99ff-c30fafd0bc08",
     "showTitle": false,
     "title": ""
    }
   },
   "outputs": [],
   "source": [
    "print(f\"DA:                   {DA}\")\n",
    "print(f\"DA.username:          {DA.username}\")\n",
    "print(f\"DA.paths.working_dir: {DA.paths.working_dir}\")\n",
    "print(f\"DA.schema_name:       {DA.schema_name}\")"
   ]
  },
  {
   "cell_type": "markdown",
   "metadata": {
    "application/vnd.databricks.v1+cell": {
     "cellMetadata": {},
     "inputWidgets": {},
     "nuid": "5a9e297d-e4f9-4bc2-9571-95400cb22ae7",
     "showTitle": false,
     "title": "--i18n-1145175f-c51e-4cf5-a4a5-b0e3290a73a2"
    }
   },
   "source": [
    "\n",
    "In addition to this, these same variables are \"injected\" into the SQL context so that we can use them in SQL statements.\n",
    "\n",
    "We will talk more about this later, but you can see a quick example in the following cell.\n",
    "\n",
    "<img src=\"https://files.training.databricks.com/images/icon_note_32.png\"> Note the subtle but important difference in the casing of the word **`da`** and **`DA`** in these two examples."
   ]
  },
  {
   "cell_type": "code",
   "execution_count": 0,
   "metadata": {
    "application/vnd.databricks.v1+cell": {
     "cellMetadata": {},
     "inputWidgets": {},
     "nuid": "1b619538-5751-454b-bcdf-7446760c9515",
     "showTitle": false,
     "title": ""
    }
   },
   "outputs": [],
   "source": [
    "%sql\n",
    "SELECT '${da.username}' AS current_username,\n",
    "       '${da.paths.working_dir}' AS working_directory,\n",
    "       '${da.schema_name}' as schema_name"
   ]
  },
  {
   "cell_type": "markdown",
   "metadata": {
    "application/vnd.databricks.v1+cell": {
     "cellMetadata": {},
     "inputWidgets": {},
     "nuid": "7641bd20-bfe4-4b77-9d0b-682e1576195c",
     "showTitle": false,
     "title": "--i18n-8330ad3c-8d48-42fa-9b6f-72e818426ed4"
    }
   },
   "source": [
    "\n",
    "## Databricks Utilities\n",
    "Databricks notebooks include a **`dbutils`** object that provides a number of utility commands for configuring and interacting with the environment: <a href=\"https://docs.databricks.com/user-guide/dev-tools/dbutils.html\" target=\"_blank\">dbutils docs</a>\n",
    "\n",
    "Throughout this course, we'll occasionally use **`dbutils.fs.ls()`** to list out directories of files from Python cells."
   ]
  },
  {
   "cell_type": "code",
   "execution_count": 0,
   "metadata": {
    "application/vnd.databricks.v1+cell": {
     "cellMetadata": {},
     "inputWidgets": {},
     "nuid": "ea8f0ace-e384-4727-90ee-aed0201f4808",
     "showTitle": false,
     "title": ""
    }
   },
   "outputs": [],
   "source": [
    "path = f\"{DA.paths.datasets}\"\n",
    "dbutils.fs.ls(path)"
   ]
  },
  {
   "cell_type": "markdown",
   "metadata": {
    "application/vnd.databricks.v1+cell": {
     "cellMetadata": {},
     "inputWidgets": {},
     "nuid": "10f0cd43-8cb8-481a-a211-7b7ce5fffd9e",
     "showTitle": false,
     "title": "--i18n-25eb75f8-6e75-41a6-a304-d140844fa3e6"
    }
   },
   "source": [
    "\n",
    "## display()\n",
    "\n",
    "When running SQL queries from cells, results will always be displayed in a rendered tabular format.\n",
    "\n",
    "When we have tabular data returned by a Python cell, we can call **`display`** to get the same type of preview.\n",
    "\n",
    "Here, we'll wrap the previous list command on our file system with **`display`**."
   ]
  },
  {
   "cell_type": "code",
   "execution_count": 0,
   "metadata": {
    "application/vnd.databricks.v1+cell": {
     "cellMetadata": {},
     "inputWidgets": {},
     "nuid": "5b9d441e-eab1-4798-9148-2a4ca1b92d0e",
     "showTitle": false,
     "title": ""
    }
   },
   "outputs": [],
   "source": [
    "path = f\"{DA.paths.datasets}\"\n",
    "files = dbutils.fs.ls(path)\n",
    "display(files)"
   ]
  },
  {
   "cell_type": "markdown",
   "metadata": {
    "application/vnd.databricks.v1+cell": {
     "cellMetadata": {},
     "inputWidgets": {},
     "nuid": "59e811e2-bead-41f2-a7ca-c9c48cfb89f6",
     "showTitle": false,
     "title": "--i18n-42b624ff-8cc9-4318-bedc-e3b340cb1b81"
    }
   },
   "source": [
    "\n",
    "The **`display()`** command has the following capabilities and limitations:\n",
    "* Preview of results limited to 1000 records\n",
    "* Provides button to download results data as CSV\n",
    "* Allows rendering plots"
   ]
  },
  {
   "cell_type": "markdown",
   "metadata": {
    "application/vnd.databricks.v1+cell": {
     "cellMetadata": {},
     "inputWidgets": {},
     "nuid": "11c816d3-5983-4695-bf4a-297cbb71229a",
     "showTitle": false,
     "title": "--i18n-c7f02dde-9b21-4edb-bded-5ce0eed56d03"
    }
   },
   "source": [
    "\n",
    "## Downloading Notebooks\n",
    "\n",
    "There are a number of options for downloading either individual notebooks or collections of notebooks.\n",
    "\n",
    "Here, you'll go through the process to download this notebook as well as a collection of all the notebooks in this course.\n",
    "\n",
    "### Download a Notebook\n",
    "\n",
    "Steps:\n",
    "* At the top left of the notebook, Click the **File** option \n",
    "* From the menu that appears, hover over **Export** and then select **Source file**\n",
    "\n",
    "The notebook will download to your personal laptop. It will be named with the current notebook name and have the file extension for the default language. You can open this notebook with any file editor and see the raw contents of Databricks notebooks.\n",
    "\n",
    "These source files can be uploaded into any Databricks workspace.\n",
    "\n",
    "### Download a Collection of Notebooks\n",
    "\n",
    "**NOTE**: The following instructions assume you have imported these materials using **Repos**.\n",
    "\n",
    "Steps:\n",
    "* Click the  ![](https://files.training.databricks.com/images/repos-icon.png) **Repos** on the left sidebar\n",
    "  * This should give you a preview of the parent directories for this notebook\n",
    "* On the left side of the directory preview around the middle of the screen, there should be a left arrow. Click this to move up in your file hierarchy.\n",
    "* You should see a directory called **Data Engineer Learning Path**. Click the the down arrow/chevron to bring up a menu\n",
    "* From the menu, hover over **Export** and select **DBC Archive**\n",
    "\n",
    "The DBC (Databricks Cloud) file that is downloaded contains a zipped collection of the directories and notebooks in this course. Users should not attempt to edit these DBC files locally, but they can be safely uploaded into any Databricks workspace to move or share notebook contents.\n",
    "\n",
    "**NOTE**: When downloading a collection of DBCs, result previews and plots will also be exported. When downloading source notebooks, only code will be saved."
   ]
  },
  {
   "cell_type": "markdown",
   "metadata": {
    "application/vnd.databricks.v1+cell": {
     "cellMetadata": {},
     "inputWidgets": {},
     "nuid": "e621ffbf-0920-46d9-85fd-639a10a9b9df",
     "showTitle": false,
     "title": "--i18n-30e63e01-ca85-461a-b980-ea401904731f"
    }
   },
   "source": [
    "\n",
    "## Learning More\n",
    "\n",
    "We like to encourage you to explore the documentation to learn more about the various features of the Databricks platform and notebooks.\n",
    "* <a href=\"https://docs.databricks.com/user-guide/index.html#user-guide\" target=\"_blank\">User Guide</a>\n",
    "* <a href=\"https://docs.databricks.com/user-guide/getting-started.html\" target=\"_blank\">Getting Started with Databricks</a>\n",
    "* <a href=\"https://docs.databricks.com/user-guide/notebooks/index.html\" target=\"_blank\">User Guide / Notebooks</a>\n",
    "* <a href=\"https://docs.databricks.com/notebooks/notebooks-manage.html#notebook-external-formats\" target=\"_blank\">Importing notebooks - Supported Formats</a>\n",
    "* <a href=\"https://docs.databricks.com/repos/index.html\" target=\"_blank\">Repos</a>\n",
    "* <a href=\"https://docs.databricks.com/administration-guide/index.html#administration-guide\" target=\"_blank\">Administration Guide</a>\n",
    "* <a href=\"https://docs.databricks.com/user-guide/clusters/index.html\" target=\"_blank\">Cluster Configuration</a>\n",
    "* <a href=\"https://docs.databricks.com/api/latest/index.html#rest-api-2-0\" target=\"_blank\">REST API</a>\n",
    "* <a href=\"https://docs.databricks.com/release-notes/index.html#release-notes\" target=\"_blank\">Release Notes</a>"
   ]
  },
  {
   "cell_type": "markdown",
   "metadata": {
    "application/vnd.databricks.v1+cell": {
     "cellMetadata": {},
     "inputWidgets": {},
     "nuid": "a8410aea-0a3a-47c3-ad69-be626c49406b",
     "showTitle": false,
     "title": "--i18n-9987fd58-1023-4dbd-8319-40332f909181"
    }
   },
   "source": [
    "\n",
    "## One more note! \n",
    "\n",
    "At the end of each lesson you will see the following command, **`DA.cleanup()`**.\n",
    "\n",
    "This method drops lesson-specific schemas and working directories in an attempt to keep your workspace clean and maintain the immutability of each lesson.\n",
    "\n",
    "Run the following cell to delete the tables and files associated with this lesson."
   ]
  },
  {
   "cell_type": "code",
   "execution_count": 0,
   "metadata": {
    "application/vnd.databricks.v1+cell": {
     "cellMetadata": {},
     "inputWidgets": {},
     "nuid": "6c61b76d-0107-48db-b157-ec114c4f0b9c",
     "showTitle": false,
     "title": ""
    }
   },
   "outputs": [],
   "source": [
    "DA.cleanup()"
   ]
  },
  {
   "cell_type": "markdown",
   "metadata": {
    "application/vnd.databricks.v1+cell": {
     "cellMetadata": {},
     "inputWidgets": {},
     "nuid": "252a4b1b-3d23-4fe2-9fd8-5b34480f0c46",
     "showTitle": false,
     "title": ""
    }
   },
   "source": [
    "&copy; 2023 Databricks, Inc. All rights reserved.<br/>\n",
    "Apache, Apache Spark, Spark and the Spark logo are trademarks of the <a href=\"https://www.apache.org/\">Apache Software Foundation</a>.<br/>\n",
    "<br/>\n",
    "<a href=\"https://databricks.com/privacy-policy\">Privacy Policy</a> | <a href=\"https://databricks.com/terms-of-use\">Terms of Use</a> | <a href=\"https://help.databricks.com/\">Support</a>"
   ]
  }
 ],
 "metadata": {
  "application/vnd.databricks.v1+notebook": {
   "dashboards": [],
   "language": "python",
   "notebookMetadata": {
    "pythonIndentUnit": 2
   },
   "notebookName": "DE 1.2 - Notebook Basics",
   "widgets": {}
  }
 },
 "nbformat": 4,
 "nbformat_minor": 0
}
